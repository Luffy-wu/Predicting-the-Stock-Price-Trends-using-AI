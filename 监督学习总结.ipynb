{
 "cells": [
  {
   "cell_type": "code",
   "execution_count": null,
   "metadata": {},
   "outputs": [],
   "source": [
    "周日\n",
    "理清整理成PDF 和 markdown的思路，特别是PDF \n",
    "快速整理出PDF，争取下午4点前可以休息，查护肤品"
   ]
  },
  {
   "cell_type": "markdown",
   "metadata": {},
   "source": [
    "更久之后的优化 可以参考下面链接的最下方\n",
    "https://scikit-learn.org/stable/modules/generated/sklearn.multiclass.OneVsRestClassifier.html   \n",
    "考虑技术因子之间的相关性（多用几个股票，求平均相关性）  \n",
    "或者依据talib里面的groups，一个group进行主成分降维，不同group就是不同的因子"
   ]
  },
  {
   "cell_type": "code",
   "execution_count": null,
   "metadata": {},
   "outputs": [],
   "source": [
    "研究思路：\n",
    "一、直接用行情数据训练，发现效果不好\n",
    "  单行情数据，单模型\n",
    "  #多行情数据，多模型\n",
    "  （--循环100次，取平均结果）\n",
    "二、选用将行情数据做成因子\n",
    "1.如何删选技术因子\n",
    "2.数据预处理：基准（CSI300）、去掉停牌过多、按行标准化\n",
    "3.生成X Y（标签），分成训练集测试集\n",
    "4.！！各种监督学习方式之间的比较\n",
    "（1）单因子效果\n",
    "（2）单因子组合，效果\n",
    "（3）单因子，多数表决，效果\n",
    "5.监督学习方式的组合\n",
    "（1）单因子，多模型，多数表决\n",
    "\n",
    "预测思路修改：\n",
    "10天预测未来平均3天的涨跌情况\n",
    "按中位数分成两档\n",
    "（最好将中位数分档的提出来）\n",
    "\n",
    "6.三分类，正确率\n",
    "\n",
    "图：\n",
    "行情数据的图、技术因子的图\n",
    "预处理前的图、预处理后的图\n",
    "二分类的图：不同模型之间的比较"
   ]
  },
  {
   "cell_type": "code",
   "execution_count": null,
   "metadata": {},
   "outputs": [],
   "source": [
    "阅读下Mark的报告、华泰研报、（mfin论文）---整理思路  （有逻辑，有图，有介绍原理）\n",
    "如何展示，是做成markdown吗-试下\n",
    "下午 1 确定思路 2 完成代码部分"
   ]
  },
  {
   "cell_type": "code",
   "execution_count": null,
   "metadata": {},
   "outputs": [],
   "source": [
    "晚上。完成三分类图的做法\n"
   ]
  }
 ],
 "metadata": {
  "kernelspec": {
   "display_name": "Python 3",
   "language": "python",
   "name": "python3"
  },
  "language_info": {
   "codemirror_mode": {
    "name": "ipython",
    "version": 3
   },
   "file_extension": ".py",
   "mimetype": "text/x-python",
   "name": "python",
   "nbconvert_exporter": "python",
   "pygments_lexer": "ipython3",
   "version": "3.6.4"
  }
 },
 "nbformat": 4,
 "nbformat_minor": 2
}
